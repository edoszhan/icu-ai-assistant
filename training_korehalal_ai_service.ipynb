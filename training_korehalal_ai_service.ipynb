{
  "nbformat": 4,
  "nbformat_minor": 0,
  "metadata": {
    "colab": {
      "provenance": []
    },
    "kernelspec": {
      "name": "python3",
      "display_name": "Python 3"
    },
    "language_info": {
      "name": "python"
    }
  },
  "cells": [
    {
      "cell_type": "code",
      "execution_count": 1,
      "metadata": {
        "colab": {
          "base_uri": "https://localhost:8080/"
        },
        "id": "vMJdrKYk-u17",
        "outputId": "4d57ee17-ad7b-482c-ef34-fc39622182da"
      },
      "outputs": [
        {
          "output_type": "stream",
          "name": "stdout",
          "text": [
            "Mounted at /content/drive/\n"
          ]
        }
      ],
      "source": [
        "from google.colab import drive\n",
        "drive.mount('/content/drive/')"
      ]
    },
    {
      "cell_type": "code",
      "source": [
        "import pandas as pd\n",
        "import numpy as np\n",
        "from geopy.distance import geodesic"
      ],
      "metadata": {
        "id": "qZa-mkMX---H"
      },
      "execution_count": 2,
      "outputs": []
    },
    {
      "cell_type": "code",
      "source": [
        "# Define the dataset path\n",
        "dataset_path = \"/content/drive/MyDrive/개발/코레할랄 맵/V1/Restaurant_1129.csv\"\n",
        "\n",
        "# Load the dataset\n",
        "data = pd.read_csv(dataset_path)\n",
        "\n",
        "# Function to find nearest locations\n",
        "def find_nearest_locations(user_lat, user_lon, category, dataset, max_results=10):\n",
        "    # Filter by category\n",
        "    filtered = dataset[dataset['Category'] == category].copy()\n",
        "\n",
        "    if filtered.empty:\n",
        "        return []\n",
        "\n",
        "    # Calculate distances\n",
        "    filtered['Distance'] = filtered.apply(\n",
        "        lambda row: geodesic((user_lat, user_lon), (row['Latitude'], row['Longitude'])).km, axis=1\n",
        "    )\n",
        "\n",
        "    filtered['Operating Hours'] = dataset[\"Time\"]\n",
        "\n",
        "    # Sort by distance and return top results\n",
        "    sorted_results = filtered.sort_values(by='Distance').head(max_results)\n",
        "    return sorted_results[['Name', 'Distance', 'Operating Hours']]\n",
        "\n",
        "\n",
        "# Example\n",
        "user_lat = 37.551170   # Namsan Tower\n",
        "user_lon = 126.988228\n",
        "category = \"Arabic\"\n",
        "\n",
        "# Find top 3 locations\n",
        "results = find_nearest_locations(user_lat, user_lon, category, data)\n",
        "\n",
        "# Display results\n",
        "print(\"Top 10 nearest locations:\")\n",
        "print(results)\n"
      ],
      "metadata": {
        "colab": {
          "base_uri": "https://localhost:8080/"
        },
        "id": "YIf46qR5IY0p",
        "outputId": "98b6e353-c12b-4f06-a9ba-1aeb85f5d379"
      },
      "execution_count": null,
      "outputs": [
        {
          "output_type": "stream",
          "name": "stdout",
          "text": [
            "Top 10 nearest locations:\n",
            "                     Name  Distance  \\\n",
            "350            Chickpeace  1.204305   \n",
            "49     Saffron Restaurant  1.767240   \n",
            "18       Petra Restaurant  1.836158   \n",
            "45           Petra Palace  1.847492   \n",
            "344            Grill Doha  1.862746   \n",
            "40                  Dubai  1.963789   \n",
            "19   Arabesque Restaurant  1.966447   \n",
            "15     Zaffran Restaurant  2.184614   \n",
            "12              Cairo BBQ  2.212695   \n",
            "348        Istanbul Grill  3.630738   \n",
            "\n",
            "                                       Operating Hours  \n",
            "350                                 10:30am - 08:00pm.  \n",
            "49                                  11:30am - 10:00pm.  \n",
            "18                                 11:30 am - 10:00 pm  \n",
            "45            11:30am - 08:30pm. Closed on Wednesdays.  \n",
            "344  11:30am - 09:50pm. Break time 2:30pm - 5:00pm....  \n",
            "40                               12:00 pm - 11:00 pm.   \n",
            "19                               11:00 am - 10:00 pm.   \n",
            "15                                 12:00 pm - 10:00 pm  \n",
            "12                                 11:00 am - 11:00 pm  \n",
            "348     11:00am - 11:00pm. Break time 3:00pm - 5:00pm.  \n"
          ]
        }
      ]
    },
    {
      "cell_type": "code",
      "source": [
        "!pip install openai\n",
        "\n",
        "# !pip install openai==0.28"
      ],
      "metadata": {
        "colab": {
          "base_uri": "https://localhost:8080/"
        },
        "id": "AXaU6aiwN5nU",
        "outputId": "2c7a877c-ac9c-486a-ef18-be7fc2c3845d"
      },
      "execution_count": null,
      "outputs": [
        {
          "output_type": "stream",
          "name": "stdout",
          "text": [
            "Requirement already satisfied: openai in /usr/local/lib/python3.10/dist-packages (1.57.4)\n",
            "Requirement already satisfied: anyio<5,>=3.5.0 in /usr/local/lib/python3.10/dist-packages (from openai) (3.7.1)\n",
            "Requirement already satisfied: distro<2,>=1.7.0 in /usr/local/lib/python3.10/dist-packages (from openai) (1.9.0)\n",
            "Requirement already satisfied: httpx<1,>=0.23.0 in /usr/local/lib/python3.10/dist-packages (from openai) (0.28.1)\n",
            "Requirement already satisfied: jiter<1,>=0.4.0 in /usr/local/lib/python3.10/dist-packages (from openai) (0.8.2)\n",
            "Requirement already satisfied: pydantic<3,>=1.9.0 in /usr/local/lib/python3.10/dist-packages (from openai) (2.10.3)\n",
            "Requirement already satisfied: sniffio in /usr/local/lib/python3.10/dist-packages (from openai) (1.3.1)\n",
            "Requirement already satisfied: tqdm>4 in /usr/local/lib/python3.10/dist-packages (from openai) (4.67.1)\n",
            "Requirement already satisfied: typing-extensions<5,>=4.11 in /usr/local/lib/python3.10/dist-packages (from openai) (4.12.2)\n",
            "Requirement already satisfied: idna>=2.8 in /usr/local/lib/python3.10/dist-packages (from anyio<5,>=3.5.0->openai) (3.10)\n",
            "Requirement already satisfied: exceptiongroup in /usr/local/lib/python3.10/dist-packages (from anyio<5,>=3.5.0->openai) (1.2.2)\n",
            "Requirement already satisfied: certifi in /usr/local/lib/python3.10/dist-packages (from httpx<1,>=0.23.0->openai) (2024.12.14)\n",
            "Requirement already satisfied: httpcore==1.* in /usr/local/lib/python3.10/dist-packages (from httpx<1,>=0.23.0->openai) (1.0.7)\n",
            "Requirement already satisfied: h11<0.15,>=0.13 in /usr/local/lib/python3.10/dist-packages (from httpcore==1.*->httpx<1,>=0.23.0->openai) (0.14.0)\n",
            "Requirement already satisfied: annotated-types>=0.6.0 in /usr/local/lib/python3.10/dist-packages (from pydantic<3,>=1.9.0->openai) (0.7.0)\n",
            "Requirement already satisfied: pydantic-core==2.27.1 in /usr/local/lib/python3.10/dist-packages (from pydantic<3,>=1.9.0->openai) (2.27.1)\n"
          ]
        }
      ]
    },
    {
      "cell_type": "code",
      "source": [
        "from openai import OpenAI\n",
        "from google.colab import drive, userdata\n",
        "import pandas as pd\n",
        "from geopy.distance import geodesic\n",
        "\n",
        "# Define the dataset path\n",
        "dataset_path = \"/content/drive/MyDrive/개발/코레할랄 맵/V1/Restaurant_1129.csv\"\n",
        "\n",
        "client = OpenAI(api_key=userdata.get('api_key'))\n",
        "\n",
        "# Load the dataset\n",
        "data = pd.read_csv(dataset_path)\n",
        "\n",
        "# Function to infer category from text\n",
        "def infer_category(prompt):\n",
        "    prompt = prompt.lower()\n",
        "    print(len(prompt))\n",
        "    if \"uzbek\" in prompt:\n",
        "        return \"Uzbek\"\n",
        "    elif \"arabic\" in prompt:\n",
        "        return \"Arabic\"\n",
        "    elif \"restaurant\" in prompt:\n",
        "        return \"Restaurant\"\n",
        "    # Add more categories as needed\n",
        "    return None\n",
        "\n",
        "# Function to find nearest locations\n",
        "def find_nearest_locations(user_lat, user_lon, category, dataset, max_results=2):\n",
        "    # Filter by category\n",
        "    filtered = dataset[dataset['Category'] == category].copy()\n",
        "\n",
        "    if filtered.empty:\n",
        "        return []\n",
        "\n",
        "    # Calculate distances\n",
        "    filtered['distance'] = filtered.apply(\n",
        "        lambda row: geodesic((user_lat, user_lon), (row['Latitude'], row['Longitude'])).km, axis=1\n",
        "    )\n",
        "\n",
        "    # Sort by distance and return top results as a list of dictionaries\n",
        "    sorted_results = filtered.sort_values(by='distance').head(max_results)\n",
        "    return sorted_results[['Name', 'distance', 'Time']].to_dict(orient='records')\n",
        "\n",
        "\n",
        "\n",
        "def generate_response_with_gpt(user_lat, user_lon, text):\n",
        "    # Infer category from text\n",
        "    category = infer_category(text)\n",
        "    if not category:\n",
        "        return \"Unable to infer category from the prompt. Please provide more details.\"\n",
        "\n",
        "    results = find_nearest_locations(user_lat, user_lon, category, data)\n",
        "\n",
        "    if not results:\n",
        "        return \"No matching locations found.\"\n",
        "\n",
        "    # Prepare a structured prompt for GPT\n",
        "    places_summary = \"\\n\".join(\n",
        "        f\"{index + 1}. {place['Name']} (Distance: {place['distance']:.2f} km, Hours: {place['Time']})\"\n",
        "        for index, place in enumerate(results)\n",
        "    )\n",
        "    prompt = f\"\"\" You are a helpful assistant. A user has requested suggestions for {category} locations.\n",
        "                  Based on the search, here are the nearest options:\n",
        "\n",
        "                  {places_summary}\n",
        "\n",
        "                  Please format this into a user-friendly response.\n",
        "                  \"\"\"\n",
        "    try:\n",
        "        response = client.chat.completions.create(model=\"gpt-3.5-turbo\",\n",
        "        messages=[\n",
        "            {\"role\": \"system\", \"content\": \"You are a helpful assistant.\"},\n",
        "            {\"role\": \"user\", \"content\": prompt},\n",
        "        ],\n",
        "        max_tokens=100)\n",
        "        return response.choices[0].message.content.strip()\n",
        "    except Exception as e:\n",
        "        return f\"Error generating response: {e}\"\n",
        "\n",
        "# Example usage\n",
        "user_lat = 37.551170   # Namsan Tower\n",
        "user_lon = 126.988228\n",
        "text = \"Find nearest Arabic restaurant by distance\"\n",
        "response = generate_response_with_gpt(user_lat, user_lon, text)\n",
        "print(response)\n"
      ],
      "metadata": {
        "colab": {
          "base_uri": "https://localhost:8080/"
        },
        "id": "JVJuhpBOsilC",
        "outputId": "7f152cd1-1b9c-4829-cb9d-f03e3481cb98"
      },
      "execution_count": null,
      "outputs": [
        {
          "output_type": "stream",
          "name": "stdout",
          "text": [
            "42\n",
            "Certainly! Here are some nearby Arabic locations for you to consider:\n",
            "\n",
            "1. Chickpeace\n",
            "   - Distance: 1.20 km \n",
            "   - Operating Hours: 10:30 am - 08:00 pm \n",
            "\n",
            "2. Saffron Restaurant\n",
            "   - Distance: 1.77 km \n",
            "   - Operating Hours: 11:30 am - 10:00 pm \n",
            "\n",
            "I hope you find these options helpful for your search!\n"
          ]
        }
      ]
    },
    {
      "cell_type": "code",
      "source": [
        "# Define the dataset path\n",
        "dataset1 = \"/content/drive/MyDrive/개발/코레할랄 맵/V1/Restaurant_1129.csv\"\n",
        "dataset2 = \"/content/drive/MyDrive/개발/코레할랄 맵/V1/Hotel_1127.csv\"\n",
        "\n",
        "# Load the datasets\n",
        "data1 = pd.read_csv(dataset1)\n",
        "data2 = pd.read_csv(dataset2)\n",
        "\n",
        "# Add the necessary columns to dataset2\n",
        "data2['Classification'] = 'Hotel'\n",
        "data2['Category'] = None\n",
        "data2['Time'] = None\n",
        "\n",
        "# Drop the 'WKT' column from both datasets if it exists\n",
        "if 'WKT' in data1.columns:\n",
        "    data1 = data1.drop(columns=['WKT'])\n",
        "if 'WKT' in data2.columns:\n",
        "    data2 = data2.drop(columns=['WKT'])\n",
        "\n",
        "combined_data = pd.concat([data1, data2], ignore_index=True)\n",
        "combined_data.to_csv(\"/content/combined_dataset.csv\", index=False)"
      ],
      "metadata": {
        "id": "sOUUDRYzVH78"
      },
      "execution_count": null,
      "outputs": []
    },
    {
      "cell_type": "code",
      "source": [
        "dataset1 = \"/content/combined_dataset.csv\"\n",
        "dataset2 = \"/content/drive/MyDrive/개발/코레할랄 맵/V1/Pray_1127.csv\"\n",
        "\n",
        "# Load the datasets\n",
        "data1 = pd.read_csv(dataset1)\n",
        "data2 = pd.read_csv(dataset2)\n",
        "\n",
        "# Add the necessary columns to dataset2\n",
        "data2['Classification'] = 'Prayer'\n",
        "data2['Category'] = None\n",
        "\n",
        "if 'WKT' in data2.columns:\n",
        "    data2 = data2.drop(columns=['WKT'])\n",
        "\n",
        "combined_data = pd.concat([data1, data2], ignore_index=True)\n",
        "combined_data.to_csv(\"/content/combined_dataset.csv\", index=False)"
      ],
      "metadata": {
        "id": "NkRJBUfbY1gj"
      },
      "execution_count": null,
      "outputs": []
    },
    {
      "cell_type": "code",
      "source": [
        "dataset = \"/content/combined_dataset.csv\"\n",
        "\n",
        "# Load the datasets\n",
        "data = pd.read_csv(dataset)\n",
        "print(data)"
      ],
      "metadata": {
        "colab": {
          "base_uri": "https://localhost:8080/"
        },
        "id": "vkGhbKdMV1Pf",
        "outputId": "779791c7-a9a5-4077-bc03-e48780e41718"
      },
      "execution_count": null,
      "outputs": [
        {
          "output_type": "stream",
          "name": "stdout",
          "text": [
            "       Latitude   Longitude                               Name Category  \\\n",
            "0     37.533220  126.996389                                Eid   Korean   \n",
            "1     37.534410  126.995378          Mr.Kebab (Itaewon Branch)  Turkish   \n",
            "2     37.534028  126.994217                       Sultan Kebab  Turkish   \n",
            "3     37.534502  126.997047              Kervan Turkish Bakery  Turkish   \n",
            "4     37.534327  126.995358                             Kervan  Turkish   \n",
            "...         ...         ...                                ...      ...   \n",
            "1595  36.393402  127.399507               Prayer room in KAIST      NaN   \n",
            "1596  36.336314  127.458233  Prayer room in Daejeon University      NaN   \n",
            "1597  37.559249  126.924394               Prayer romm in IFTAR      NaN   \n",
            "1598  37.565702  127.005632      Prayer room in Star samarkand      NaN   \n",
            "1599  37.555850  126.925240         Prayer room in Nusantaraku      NaN   \n",
            "\n",
            "                                         Time  \\\n",
            "0      12:00 pm - 09:00 pm. closed on Tuesday   \n",
            "1                                         24h   \n",
            "2                                         24h   \n",
            "3                               10:00 ~ 22:00   \n",
            "4                                         24h   \n",
            "...                                       ...   \n",
            "1595                                      NaN   \n",
            "1596                            09:00 ~ 17:30   \n",
            "1597  11:30 ~ 20:30\\nBreak time 15:00 ~ 16:00   \n",
            "1598                           10:00 ~ 23:00    \n",
            "1599                            10:00 ~ 22:00   \n",
            "\n",
            "                                    Description    Classification  \\\n",
            "0                                           NaN  Halal restaurant   \n",
            "1                                           NaN  Halal restaurant   \n",
            "2                                           NaN  Halal restaurant   \n",
            "3                                           NaN  Halal restaurant   \n",
            "4                                           NaN  Halal restaurant   \n",
            "...                                         ...               ...   \n",
            "1595  Munji Campus, Administrative building 10F            Prayer   \n",
            "1596                                        NaN            Prayer   \n",
            "1597                     Accommodate 1-2 people            Prayer   \n",
            "1598                       Accommodate 5 people            Prayer   \n",
            "1599                     Accommodate 1-2 people            Prayer   \n",
            "\n",
            "            Contact  \n",
            "0               NaN  \n",
            "1               NaN  \n",
            "2               NaN  \n",
            "3               NaN  \n",
            "4               NaN  \n",
            "...             ...  \n",
            "1595   042-350-6114  \n",
            "1596   042-280-2114  \n",
            "1597  010-2671-7182  \n",
            "1598            NaN  \n",
            "1599  010-5931-5057  \n",
            "\n",
            "[1600 rows x 8 columns]\n"
          ]
        }
      ]
    },
    {
      "cell_type": "code",
      "source": [
        "from openai import OpenAI\n",
        "from google.colab import userdata\n",
        "\n",
        "client = OpenAI(api_key=userdata.get('api_key2'))\n",
        "\n",
        "def generate_response_with_gpt(prompt):\n",
        "    try:\n",
        "        # Generate the response in the inferred language\n",
        "        instruction = f\"You are a helpful assistant. Reply back in the language user is using.\"\n",
        "        response = client.chat.completions.create(\n",
        "            model=\"gpt-4-turbo\",\n",
        "            messages=[\n",
        "                {\"role\": \"system\", \"content\": instruction},\n",
        "                {\"role\": \"user\", \"content\": prompt}\n",
        "            ],\n",
        "            max_tokens=1000\n",
        "        )\n",
        "        return response.choices[0].message.content.strip()\n",
        "    except Exception as e:\n",
        "        return f\"Error generating response: {e}\"\n",
        "\n",
        "prompt = \"내일 인천국제공항에 도착하는데, 할랄인들을 위한 방문 가능한 장소를 추천해주세요\"\n",
        "response = generate_response_with_gpt(prompt)\n",
        "print(response)\n"
      ],
      "metadata": {
        "colab": {
          "base_uri": "https://localhost:8080/"
        },
        "id": "_xdAFw1qimC2",
        "outputId": "90c4429b-f448-4cee-eb31-0535b6f1bc09"
      },
      "execution_count": null,
      "outputs": [
        {
          "output_type": "stream",
          "name": "stdout",
          "text": [
            "인천국제공항에 도착하시면 방문하실 수 있는 할랄 친화적인 장소들을 추천드릴게요:\n",
            "\n",
            "1. **인천 중구의 한국슬람평화의사원** - 인천에 위치한 이 사원은 무슬림 관광객들이 기도를 할 수 있는 공간을 제공합니다.\n",
            "\n",
            "2. **할랄 식당** - 인천 국제공항 인근에는 여러 할랄 인증 식당이 있습니다. 예를 들어, '우스마니아'는 인기 있는 할랄 인증 파키스탄 식당입니다.\n",
            "\n",
            "3. **송도 센트럴파크** - 송도에 위치한 이 공원은 아름다운 경관을 자랑하며, 가족 단위 방문객들에게 적합한 장소입니다.\n",
            "\n",
            "4. **인천 차이나타운** - 다양한 문화와 음식을 경험할 수 있는 곳으로, 일부 식당에서는 할랄 음식도 제공합니다.\n",
            "\n",
            "5. **트리플스트리트 쇼핑몰** - 다양한 쇼핑 옵션과 식사 장소를 제공하며, 할랄 음식 옵션이 있는 식당도 찾을 수 있습니다.\n",
            "\n",
            "이러한 장소들을 방문하시면서 할랄 요구사항에 맞는 식사와 기도 공간 등을 찾으실 수 있을 거예요. 좋은 여행 되세요!\n"
          ]
        }
      ]
    },
    {
      "cell_type": "code",
      "source": [
        "import numpy as np\n",
        "import pandas as pd\n",
        "\n",
        "# Define the dataset path\n",
        "dataset1 = \"/content/Restaurant_1129_Fake.csv\"\n",
        "dataset2 = \"/content/Seoul_1127_Fake_Address.csv\"\n",
        "\n",
        "# we care about Name, Description, Address columns for now\n",
        "# later additional paramters can be added such as query by classification\n",
        "# later, for specific details, we either 1) fine tune, 2) ask clarification, guess intent (detail) and then query\n",
        "\n",
        "# Load the datasets\n",
        "data1 = pd.read_csv(dataset1)\n",
        "data2 = pd.read_csv(dataset2)\n",
        "\n",
        "# Add the necessary columns to dataset1\n",
        "data1['Type'] = 'Restaurant'\n",
        "\n",
        "# Add the necessary columns to dataset2\n",
        "data2['Type'] = 'Tourist Attraction'\n",
        "data2['Category'] = None\n",
        "data2['Time'] = None\n",
        "\n",
        "# Drop the 'WKT' column from both datasets if it exists\n",
        "if 'WKT' in data1.columns:\n",
        "    data1 = data1.drop(columns=['WKT'])\n",
        "if 'Place' in data2.columns:\n",
        "    data2 = data2.drop(columns=['Place'])\n",
        "\n",
        "# Combine the datasets\n",
        "combined_data = pd.concat([data1, data2], ignore_index=True)\n",
        "\n",
        "# Remove rows where 'Description' is empty or null\n",
        "combined_data = combined_data.dropna(subset=['Description'])\n",
        "\n",
        "# Replace any remaining null, empty, or whitespace-only values with 'N/A'\n",
        "combined_data = combined_data.replace(to_replace=[np.nan, '', ' '], value='N/A')\n",
        "\n",
        "# Save the cleaned dataset (optional, only if needed for external use)\n",
        "combined_data.to_csv(\"/content/combined_dataset.csv\", index=False)"
      ],
      "metadata": {
        "id": "McPFjNZA3Bbh"
      },
      "execution_count": null,
      "outputs": []
    },
    {
      "cell_type": "code",
      "source": [
        "from transformers import pipeline\n",
        "\n",
        "# Load a zero-shot classification pipeline\n",
        "classifier = pipeline(\"zero-shot-classification\", model=\"facebook/bart-large-mnli\")\n",
        "\n",
        "# Define candidate labels\n",
        "labels = [\"Tourist Attraction\", \"Restaurant\", \"Prayer Room\"]\n",
        "\n",
        "# Example prompt\n",
        "prompt = \"I will be coming to Seoul this Friday, make a detailed 1 day itinerary, including tourist attractions and Halal Restaurants and prayer rooms\"\n",
        "\n",
        "# Classify the prompt\n",
        "result = classifier(prompt, candidate_labels=labels)\n",
        "print(result)\n"
      ],
      "metadata": {
        "colab": {
          "base_uri": "https://localhost:8080/"
        },
        "id": "538YpZM1Mbcl",
        "outputId": "2c6ad4ca-e899-4e8a-ba58-69a03ac59a06"
      },
      "execution_count": null,
      "outputs": [
        {
          "output_type": "stream",
          "name": "stderr",
          "text": [
            "Device set to use cpu\n"
          ]
        },
        {
          "output_type": "stream",
          "name": "stdout",
          "text": [
            "{'sequence': 'I will be coming to Seoul this Friday, make a detailed 1 day itinerary, including tourist attractions and Halal Restaurants and prayer rooms', 'labels': ['Tourist Attraction', 'Prayer Room', 'Restaurant'], 'scores': [0.5679824948310852, 0.2610222101211548, 0.17099523544311523]}\n"
          ]
        }
      ]
    },
    {
      "cell_type": "code",
      "source": [
        "import requests\n",
        "\n",
        "def get_coordinates_nominatim(place_name):\n",
        "    base_url = \"https://nominatim.openstreetmap.org/search\"\n",
        "    params = {\n",
        "        \"q\": place_name,\n",
        "        \"format\": \"json\",\n",
        "        \"limit\": 1\n",
        "    }\n",
        "    headers = {\n",
        "        \"User-Agent\": \"ExampleMap/1.0 (example@example.com)\"\n",
        "    }\n",
        "    response = requests.get(base_url, params=params, headers=headers)\n",
        "\n",
        "    if response.status_code == 200:\n",
        "        data = response.json()\n",
        "        if data:\n",
        "            return float(data[0]['lat']), float(data[0]['lon'])\n",
        "        else:\n",
        "            raise ValueError(f\"No results found for {place_name}\")\n",
        "    else:\n",
        "        raise ValueError(f\"Failed to fetch data for {place_name}, Status Code: {response.status_code}\")\n",
        "\n",
        "# Example usage\n",
        "try:\n",
        "    lat, lng = get_coordinates_nominatim(\"Incheon International Airport\")\n",
        "    print(\"Latitude:\", lat, \"Longitude:\", lng)\n",
        "except ValueError as e:\n",
        "    print(e)\n"
      ],
      "metadata": {
        "colab": {
          "base_uri": "https://localhost:8080/"
        },
        "id": "5AujJ3N1XV--",
        "outputId": "afa09c4a-dd5f-49e0-c96e-ea03ed7fba92"
      },
      "execution_count": null,
      "outputs": [
        {
          "output_type": "stream",
          "name": "stdout",
          "text": [
            "Latitude: 37.4634593 Longitude: 126.44170925544927\n"
          ]
        }
      ]
    },
    {
      "cell_type": "code",
      "source": [
        "import json\n",
        "import requests\n",
        "from google.colab import userdata\n",
        "from openai import OpenAI\n",
        "\n",
        "client = OpenAI(api_key=userdata.get('api_key2'))\n",
        "\n",
        "def infer_type_and_location(prompt):\n",
        "    # Default coordinates for Seoul Station\n",
        "    DEFAULT_LAT = 37.551170\n",
        "    DEFAULT_LON = 126.988228\n",
        "    DEFAULT_LOCATION = \"Seoul Station, South Korea\"\n",
        "\n",
        "    # Prepare GPT prompt\n",
        "    gpt_prompt = f\"\"\"\n",
        "    You are an AI assistant specializing in Muslim-friendly places in Korea.\n",
        "    Analyze the following user prompt: \"{prompt}\".\n",
        "    Return a JSON object with:\n",
        "    - 'type': an array of classifications ('Restaurant' and/or 'Tourist Attraction').\n",
        "      Include both if both are mentioned; otherwise, use only the relevant type.\n",
        "      Default to ['Restaurant', 'Tourist Attraction'] if ambiguous.\n",
        "    - 'location': A specific location mentioned in the prompt, if any.\n",
        "      Otherwise, default to '{DEFAULT_LOCATION}'.\n",
        "    - 'coordinates': A dictionary with 'latitude' and 'longitude' values.\n",
        "      For 'Seoul' or 'South Korea', always return {{'latitude': 37.551170, 'longitude': 126.988228}}.\n",
        "    \"\"\"\n",
        "\n",
        "    try:\n",
        "        response = client.chat.completions.create(\n",
        "            model=\"gpt-3.5-turbo\",\n",
        "            messages=[\n",
        "                {\"role\": \"system\", \"content\": \"You are a helpful assistant.\"},\n",
        "                {\"role\": \"user\", \"content\": gpt_prompt},\n",
        "            ],\n",
        "            max_tokens=150\n",
        "        )\n",
        "\n",
        "        result = response.choices[0].message.content.strip()\n",
        "        print(\"Debug - Output:\", result)\n",
        "\n",
        "        if result.startswith(\"```\"):\n",
        "            result = result.split(\"```\")[1].strip()\n",
        "\n",
        "        # Parse GPT response as JSON\n",
        "        parsed_result = json.loads(result)\n",
        "\n",
        "        # Extract classification and location\n",
        "        classification = parsed_result.get(\"type\", [\"Restaurant\", \"Tourist Attraction\"])\n",
        "        location = parsed_result.get(\"location\", DEFAULT_LOCATION)\n",
        "        coordinates = parsed_result.get(\"coordinates\", {\n",
        "            \"latitude\": DEFAULT_LAT,\n",
        "            \"longitude\": DEFAULT_LON\n",
        "        })\n",
        "\n",
        "        # If location is mentioned and not default, use Nominatim for geocoding\n",
        "        if location != DEFAULT_LOCATION or \"Seoul\" not in location or \"South Korea\" not in location:\n",
        "            try:\n",
        "                lat, lon = get_coordinates_nominatim(location)\n",
        "                coordinates = {\"latitude\": lat, \"longitude\": lon}\n",
        "            except Exception as e:\n",
        "                print(f\"Geocoding failed for {location}: {e}\")\n",
        "                coordinates = {\"latitude\": DEFAULT_LAT, \"longitude\": DEFAULT_LON}  # Fallback\n",
        "\n",
        "        if not location:\n",
        "            location = {\"latitude\": DEFAULT_LAT, \"longitude\": DEFAULT_LON}\n",
        "\n",
        "        return {\n",
        "            \"type\": classification,\n",
        "            \"location\": location,\n",
        "            \"coordinates\": coordinates\n",
        "        }\n",
        "\n",
        "    except json.JSONDecodeError as jde:\n",
        "        raise ValueError(f\"Failed to parse GPT response as JSON. Raw output: {result}. Error: {str(jde)}\")\n",
        "    except Exception as e:\n",
        "        raise ValueError(f\"Failed to infer classification and location: {str(e)}\")\n",
        "\n",
        "# Example usage\n",
        "prompt = \"I will be arriving at Incheon International Airport tomorrow. Suggest Halal restaurants nearby.\"\n",
        "output = infer_type_and_location(prompt)"
      ],
      "metadata": {
        "colab": {
          "base_uri": "https://localhost:8080/"
        },
        "id": "4XcdEEj5Yu6c",
        "outputId": "6cd10117-50f0-4852-c22c-0566d71c8e76"
      },
      "execution_count": null,
      "outputs": [
        {
          "output_type": "stream",
          "name": "stdout",
          "text": [
            "Debug - Output: {\n",
            "    \"type\": [\"Restaurant\"],\n",
            "    \"location\": \"Incheon International Airport, South Korea\",\n",
            "    \"coordinates\": {\n",
            "        \"latitude\": 37.460190,\n",
            "        \"longitude\": 126.440695\n",
            "    }\n",
            "}\n"
          ]
        }
      ]
    },
    {
      "cell_type": "code",
      "source": [
        "print(output[\"type\"])\n",
        "print(output[\"location\"])\n",
        "print(output[\"coordinates\"])"
      ],
      "metadata": {
        "colab": {
          "base_uri": "https://localhost:8080/"
        },
        "id": "fw4yKgdprDeI",
        "outputId": "0f974f2e-bd98-45af-efcd-28806e6c8389"
      },
      "execution_count": null,
      "outputs": [
        {
          "output_type": "stream",
          "name": "stdout",
          "text": [
            "['Restaurant', 'Tourist Attraction']\n",
            "Seoul\n",
            "{'latitude': 37.5666791, 'longitude': 126.9782914}\n"
          ]
        }
      ]
    },
    {
      "cell_type": "code",
      "source": [
        "import pandas as pd\n",
        "from geopy.distance import geodesic\n",
        "import json\n",
        "\n",
        "def find_nearest_locations(data, user_lat, user_lon, place_type, max_results):\n",
        "    \"\"\"\n",
        "    Finds the nearest locations for a given type and returns a list of places with Name, Address, Description, and Distance.\n",
        "    \"\"\"\n",
        "    filtered = data[data['Type'].str.lower() == place_type.lower()]\n",
        "\n",
        "    if filtered.empty:\n",
        "        return []\n",
        "\n",
        "    filtered = filtered.copy()\n",
        "    filtered['distance_km'] = filtered.apply(\n",
        "        lambda row: geodesic((user_lat, user_lon), (row['Latitude'], row['Longitude'])).km, axis=1\n",
        "    )\n",
        "\n",
        "    # Sort by distance and limit the number of results\n",
        "    nearest_places = filtered.sort_values(by='distance_km').head(max_results)\n",
        "\n",
        "    nearest_places = nearest_places[['Name', 'Address', 'Description', 'Type', 'distance_km']]\n",
        "\n",
        "    nearest_places = nearest_places.fillna('N/A')\n",
        "\n",
        "    return nearest_places.to_dict(orient='records')\n",
        "\n",
        "def get_places_by_type(data, types, user_location, limit=2):\n",
        "    f\"\"\"\n",
        "    Gets places by type (e.g., Restaurants, Tourist Attractions).\n",
        "    Returns \"{limit}\" nearest places for each type with distance and outputs them as a JSON file.\n",
        "    \"\"\"\n",
        "    user_lat, user_lon = user_location\n",
        "    results = []\n",
        "\n",
        "    for place_type in types:\n",
        "        nearest_places = find_nearest_locations(data, user_lat, user_lon, place_type, max_results=limit)\n",
        "        results.extend(nearest_places)\n",
        "\n",
        "    # Output results to JSON\n",
        "    output_file = '/content/places_by_type.json'\n",
        "    with open(output_file, 'w') as f:\n",
        "        json.dump(results, f, indent=4, ensure_ascii=False)\n",
        "\n",
        "    print(f\"Results saved to {output_file}\")\n",
        "    return results\n",
        "\n",
        "# Example usage\n",
        "data_path = '/content/combined_dataset.csv'\n",
        "data = pd.read_csv(data_path)\n",
        "\n",
        "\n",
        "user_location = (37.551170, 126.988228)  # Seoul Tower coordinates\n",
        "types = ['Restaurant', 'Tourist Attraction']\n",
        "places = get_places_by_type(data, types, user_location, limit=2)\n",
        "\n",
        "print(json.dumps(places, indent=4, ensure_ascii=False))"
      ],
      "metadata": {
        "colab": {
          "base_uri": "https://localhost:8080/"
        },
        "id": "mx1ellpPcvIy",
        "outputId": "3fe806f0-2e32-4745-cc92-6493fd46ddf5"
      },
      "execution_count": null,
      "outputs": [
        {
          "output_type": "stream",
          "name": "stdout",
          "text": [
            "Results saved to /content/places_by_type.json\n",
            "[\n",
            "    {\n",
            "        \"Name\": \"By Tofu\",\n",
            "        \"Address\": \"South Korea, Seoul, Yongsan District, yongsan-dong 2(i)-ga, 1-467번지 1층\",\n",
            "        \"Description\": \"Vegetarian Restaurant.\",\n",
            "        \"Type\": \"Restaurant\",\n",
            "        \"distance_km\": 0.6315577473665679\n",
            "    },\n",
            "    {\n",
            "        \"Name\": \"Nuldam Space\",\n",
            "        \"Address\": \"South Korea, Seoul, 용산동2가 19-12번지 1층 용산구 서울특별시 KR\",\n",
            "        \"Description\": \"Vegetarian Cafe.\",\n",
            "        \"Type\": \"Restaurant\",\n",
            "        \"distance_km\": 0.7752159035053967\n",
            "    },\n",
            "    {\n",
            "        \"Name\": \"Namsan Seoul Tower (남산서울타워)\",\n",
            "        \"Address\": \"644 Seolleung-ro, Jung-gu, Changwon, South Korea, 48368\",\n",
            "        \"Description\": \"Admission Fees:[ Observatory] Adults 16,000 won / Children 12,000 won\\n<br><br>\\n[Namsan Cable Car]<br>\\n- Operating hours: 10:00-23:00<br>\\n- Round-trip fare: Adults 14,000 won / Children 10,500 won<br>\\n- One way: Adults 11,000 won / Children 8,000 won \\nRestrooms:Available\\nAvailable Facilities:[Seoul Tower Plaza]<br>\\n1F – Starbucks, Gong Cha, ADDAL, GS25<br>\\n2F – 153 POINTZ Budae-jjigae, Queensense Kitchen Gift Shop, Owl's Cutlet<br>\\n3F – Broadcasting facilities, Security Area<br>\\n4F – Game Plaza, Korea VR Tour Promotion Hall<br><br>\\n\\n[N Seoul Tower]<br>\\n5F – N Sweet Bar, A Twosome Place<br>\\nT1 – Ticket booth, N Burger, N Terrace, A Twosome Place, Olive Young, Cheiljemyunso, N Teddybear Shop<br>\\nT2 – The Place Dining <br>\\nT3 – Hancook<br>\\nT4 – Observatory, A Twosome Place <br>\\nT5 – Observatory, Weeny Beeny<br>\\nT7 – n Grill\\n<BR><BR>\\n[Namsan Cable Car]<br>\\n- Namsan Seoul Tower shuttle bus<br>\\n- Regular vehicle access is limited\\nInterpretation Services Offered:* Available in English, Japanese, and Chinese<br>\\n* Group guide: 10 or more people (first-come, first-served basis)<br>\\n* Free admission and guide service for group visitors with pre-reservation<br>\\n* Audio guide, leaflets, pamphlets and maps available in English, Chinese & Japanese<br>\\n(Audio guide: 3,000 won)<br>\\n\",\n",
            "        \"Type\": \"Tourist Attraction\",\n",
            "        \"distance_km\": 0.02990192694688586\n",
            "    },\n",
            "    {\n",
            "        \"Name\": \"Namsan Seoul Tower Hanbok Culture Experience Center (남산서울타워 한복문화체험관)\",\n",
            "        \"Address\": \"480 Jongno, Seodaemun-gu, Goyang, South Korea, 30333\",\n",
            "        \"Description\": \"Shopping Information:Pop-up store\\nAdmission Fees:Adults 2,000 won / Children 1,000 won<br /><br>\\n* Adults (age 14 & older) / Children (ages 8-13)<br>\\n* Free admission for preschoolers ages 7 and under<br />\\n* Hanbok rental and hair accessories charged separately<br />\\n* Traditional wedding experience, photoshoot, photo postcard, etc. charged separately\\nInterpretation Services Offered:Available (English, Japanese, Chinese)\\n\",\n",
            "        \"Type\": \"Tourist Attraction\",\n",
            "        \"distance_km\": 0.03284605398629858\n",
            "    }\n",
            "]\n"
          ]
        }
      ]
    },
    {
      "cell_type": "code",
      "source": [
        "def generate_human_response(json_file_path):\n",
        "    \"\"\"\n",
        "    Reads the JSON file and generates a human-readable response using GPT.\n",
        "    \"\"\"\n",
        "    with open(json_file_path, 'r') as f:\n",
        "        places = json.load(f)\n",
        "\n",
        "    gpt_prompt = \"You are a travel assistant. Always include the full address in your responses. Divide the plan for lunch and dinner where each has one tourist attraction and restaurant. If the distance is less than 1 km, then return distnace in meters instead. Describe the following places for a user planning their day:\\n\\n\"\n",
        "\n",
        "    for place in places:\n",
        "        name = place['Name']\n",
        "        address = place['Address']\n",
        "        description = place['Description']\n",
        "        distance = round(place['distance_km'], 1)\n",
        "        place_type = place['Type']\n",
        "\n",
        "        gpt_prompt += (\n",
        "            f\"- {place_type}: {name}\\n\"\n",
        "            f\"  Address: {address}\\n\"\n",
        "            f\"  Distance: {distance} km from your location.\\n\"\n",
        "            f\"  Description: {description}\\n\\n\"\n",
        "        )\n",
        "\n",
        "    try:\n",
        "        response = client.chat.completions.create(\n",
        "            model=\"gpt-3.5-turbo\",\n",
        "            messages=[\n",
        "                {\"role\": \"system\", \"content\": \"You are a helpful travel assistant.\"},\n",
        "                {\"role\": \"user\", \"content\": gpt_prompt},\n",
        "            ],\n",
        "            max_tokens=1000,\n",
        "            # temperature=0.7\n",
        "        )\n",
        "\n",
        "        return response.choices[0].message.content.strip()\n",
        "\n",
        "    except Exception as e:\n",
        "        raise ValueError(f\"Failed to generate human response: {str(e)}\")\n",
        "\n",
        "# Example usage\n",
        "places_json_path = '/content/places_by_type.json'\n",
        "response = generate_human_response(places_json_path)\n",
        "print(response)\n"
      ],
      "metadata": {
        "colab": {
          "base_uri": "https://localhost:8080/"
        },
        "id": "58O_n1fVgBHm",
        "outputId": "665cd263-fba3-4330-8fe0-e9f9cea501a1"
      },
      "execution_count": null,
      "outputs": [
        {
          "output_type": "stream",
          "name": "stdout",
          "text": [
            "For your day in Seoul, here is a plan for lunch and dinner with a tourist attraction included for each:\n",
            "\n",
            "Lunch:\n",
            "Restaurant: **By Tofu**\n",
            "Address: 1-467번지 1층, Yongsan-dong 2(i)-ga, Yongsan District, Seoul, South Korea\n",
            "Distance: 600 meters from your location\n",
            "Description: Vegetarian Restaurant\n",
            "\n",
            "Tourist Attraction: **Namsan Seoul Tower (남산서울타워)**\n",
            "Address: 644 Seolleung-ro, Jung-gu, Changwon, Seoul, South Korea, 48368\n",
            "Description: Namsan Seoul Tower offers breathtaking views of the city. Explore the observatory and facilities available on different floors. Don't miss the Namsan Cable Car experience.\n",
            "\n",
            "Dinner:\n",
            "Restaurant: **Nuldam Space**\n",
            "Address: 19-12번지 1층, Yongshan Dong 2-ga, Seoul, South Korea\n",
            "Distance: 800 meters from your location\n",
            "Description: Vegetarian Cafe\n",
            "\n",
            "Tourist Attraction: **Namsan Seoul Tower Hanbok Culture Experience Center (남산서울타워 한복문화체험관)**\n",
            "Address: 480 Jongno, Seodaemun-gu, Goyang, South Korea, 30333\n",
            "Description: Immerse yourself in Korean culture at the Hanbok Culture Experience Center. Enjoy the traditional clothing and take part in various cultural activities.\n",
            "\n",
            "Enjoy your day in Seoul!\n"
          ]
        }
      ]
    },
    {
      "cell_type": "code",
      "source": [
        "session_history = [\n",
        "    {\"role\": \"system\", \"content\": \"You are a helpful travel assistant.\"}\n",
        "]\n",
        "\n",
        "def add_to_session_history(role, content):\n",
        "    session_history.append({\"role\": role, \"content\": content})\n",
        "\n",
        "def generate_response_with_session(prompt):\n",
        "    add_to_session_history(\"user\", prompt)\n",
        "\n",
        "    try:\n",
        "        response = client.chat.completions.create(\n",
        "            model=\"gpt-3.5-turbo\",\n",
        "            messages=session_history,\n",
        "            max_tokens=100,\n",
        "            temperature=0.7\n",
        "        )\n",
        "\n",
        "        gpt_response = response.choices[0].message.content.strip()\n",
        "\n",
        "        # Add response to session history\n",
        "        add_to_session_history(\"assistant\", gpt_response)\n",
        "\n",
        "        return gpt_response\n",
        "\n",
        "    except Exception as e:\n",
        "        raise ValueError(f\"Failed to generate response: {str(e)}\")\n"
      ],
      "metadata": {
        "id": "cnI2HaQ2qTgD"
      },
      "execution_count": null,
      "outputs": []
    },
    {
      "cell_type": "code",
      "source": [
        "initial_prompt = \"Please remember my name is John Middle\"\n",
        "print(generate_response_with_session(initial_prompt))"
      ],
      "metadata": {
        "colab": {
          "base_uri": "https://localhost:8080/"
        },
        "id": "bn3h3dtSqwbV",
        "outputId": "69057085-dccb-4895-c914-b2117567c169"
      },
      "execution_count": null,
      "outputs": [
        {
          "output_type": "stream",
          "name": "stdout",
          "text": [
            "Got it, John Middle! If you have any more questions or need further assistance with your travel plans, feel free to ask.\n"
          ]
        }
      ]
    },
    {
      "cell_type": "code",
      "source": [
        "clarification_prompt = \"What is my name again? I had amnesia recently\"\n",
        "print(generate_response_with_session(clarification_prompt))\n"
      ],
      "metadata": {
        "colab": {
          "base_uri": "https://localhost:8080/"
        },
        "id": "__rd2gYAqgp7",
        "outputId": "467d6845-6de3-416a-ffc2-e416335b6262"
      },
      "execution_count": null,
      "outputs": [
        {
          "output_type": "stream",
          "name": "stdout",
          "text": [
            "Your name is John Middle. If you need any help or information, feel free to ask, John!\n"
          ]
        }
      ]
    },
    {
      "cell_type": "code",
      "source": [
        "!pip install rapidfuzz"
      ],
      "metadata": {
        "colab": {
          "base_uri": "https://localhost:8080/"
        },
        "id": "eA0tsVypQa-s",
        "outputId": "531f5eda-a0c7-4f7b-bd0c-037101118f34"
      },
      "execution_count": 3,
      "outputs": [
        {
          "output_type": "stream",
          "name": "stdout",
          "text": [
            "Collecting rapidfuzz\n",
            "  Downloading rapidfuzz-3.11.0-cp310-cp310-manylinux_2_17_x86_64.manylinux2014_x86_64.whl.metadata (11 kB)\n",
            "Downloading rapidfuzz-3.11.0-cp310-cp310-manylinux_2_17_x86_64.manylinux2014_x86_64.whl (3.1 MB)\n",
            "\u001b[?25l   \u001b[90m━━━━━━━━━━━━━━━━━━━━━━━━━━━━━━━━━━━━━━━━\u001b[0m \u001b[32m0.0/3.1 MB\u001b[0m \u001b[31m?\u001b[0m eta \u001b[36m-:--:--\u001b[0m\r\u001b[2K   \u001b[91m━━━\u001b[0m\u001b[90m╺\u001b[0m\u001b[90m━━━━━━━━━━━━━━━━━━━━━━━━━━━━━━━━━━━━\u001b[0m \u001b[32m0.2/3.1 MB\u001b[0m \u001b[31m7.1 MB/s\u001b[0m eta \u001b[36m0:00:01\u001b[0m\r\u001b[2K   \u001b[91m━━━━━━━━━━━━━━━━━━━━━━━━\u001b[0m\u001b[91m╸\u001b[0m\u001b[90m━━━━━━━━━━━━━━━\u001b[0m \u001b[32m2.0/3.1 MB\u001b[0m \u001b[31m28.1 MB/s\u001b[0m eta \u001b[36m0:00:01\u001b[0m\r\u001b[2K   \u001b[91m━━━━━━━━━━━━━━━━━━━━━━━━━━━━━━━━━━━━━━━\u001b[0m\u001b[91m╸\u001b[0m \u001b[32m3.1/3.1 MB\u001b[0m \u001b[31m36.7 MB/s\u001b[0m eta \u001b[36m0:00:01\u001b[0m\r\u001b[2K   \u001b[90m━━━━━━━━━━━━━━━━━━━━━━━━━━━━━━━━━━━━━━━━\u001b[0m \u001b[32m3.1/3.1 MB\u001b[0m \u001b[31m27.7 MB/s\u001b[0m eta \u001b[36m0:00:00\u001b[0m\n",
            "\u001b[?25hInstalling collected packages: rapidfuzz\n",
            "Successfully installed rapidfuzz-3.11.0\n"
          ]
        }
      ]
    },
    {
      "cell_type": "code",
      "source": [
        "from rapidfuzz import fuzz\n",
        "fuzz.ratio(\"Eid\", \"Eit\")"
      ],
      "metadata": {
        "colab": {
          "base_uri": "https://localhost:8080/"
        },
        "id": "aXHSE17cQtlj",
        "outputId": "158a24e6-5b56-47e9-c925-06c21747c192"
      },
      "execution_count": null,
      "outputs": [
        {
          "output_type": "execute_result",
          "data": {
            "text/plain": [
              "66.66666666666667"
            ]
          },
          "metadata": {},
          "execution_count": 48
        }
      ]
    },
    {
      "cell_type": "code",
      "source": [
        "from rapidfuzz import process, fuzz\n",
        "import pandas as pd\n",
        "\n",
        "data = pd.read_csv(\"combined_dataset.csv\")\n",
        "\n",
        "def find_closest_match(place_name, data, limit=3):\n",
        "    # Use fuzzy matching to find the closest matches by name\n",
        "    choices = data['Address'].tolist()\n",
        "    matches = process.extract(place_name, choices, limit=limit, scorer=fuzz.WRatio)\n",
        "\n",
        "    filtered_matches = [match for match in matches if match[1] > 50]  # Threshold = 70%\n",
        "    return filtered_matches\n",
        "\n",
        "# Example usage\n",
        "place_name = \"Itaewon street\"\n",
        "closest_matches = find_closest_match(place_name, data)\n",
        "print(closest_matches)\n"
      ],
      "metadata": {
        "id": "gfNKlRk5wxRC",
        "colab": {
          "base_uri": "https://localhost:8080/"
        },
        "outputId": "e8fa3c48-d195-43aa-f5e3-24811a0b7fe8"
      },
      "execution_count": null,
      "outputs": [
        {
          "output_type": "stream",
          "name": "stdout",
          "text": [
            "[('176-1 Itaewon-ro, Itaewon-dong, Yongsan District, Seoul, South Korea', 57.857142857142854, 58), ('352 Itaewon-ro, Seocho-gu, Gwangju, South Korea, 75409', 57.857142857142854, 897), ('733 Itaewon-ro, Seocho-gu, Daegu, South Korea, 77373', 57.857142857142854, 1012)]\n"
          ]
        }
      ]
    }
  ]
}